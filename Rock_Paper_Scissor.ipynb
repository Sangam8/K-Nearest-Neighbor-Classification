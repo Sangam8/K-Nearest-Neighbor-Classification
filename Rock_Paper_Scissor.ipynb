{
  "nbformat": 4,
  "nbformat_minor": 0,
  "metadata": {
    "colab": {
      "provenance": [],
      "authorship_tag": "ABX9TyOF1yPLIjkiZjFCOp6x+EVF",
      "include_colab_link": true
    },
    "kernelspec": {
      "name": "python3",
      "display_name": "Python 3"
    },
    "language_info": {
      "name": "python"
    }
  },
  "cells": [
    {
      "cell_type": "markdown",
      "metadata": {
        "id": "view-in-github",
        "colab_type": "text"
      },
      "source": [
        "<a href=\"https://colab.research.google.com/github/Sangam8/K-Nearest-Neighbor-Classification/blob/main/Rock_Paper_Scissor.ipynb\" target=\"_parent\"><img src=\"https://colab.research.google.com/assets/colab-badge.svg\" alt=\"Open In Colab\"/></a>"
      ]
    },
    {
      "cell_type": "code",
      "execution_count": 2,
      "metadata": {
        "colab": {
          "base_uri": "https://localhost:8080/"
        },
        "id": "8m8lkWgPCcTE",
        "outputId": "0c6bcf75-23ed-4409-8211-64164f066b50"
      },
      "outputs": [
        {
          "name": "stdout",
          "output_type": "stream",
          "text": [
            "Rock, Paper, or Scissors? rock\n",
            "You chose rock, AI chose rock\n",
            "It's a tie!\n",
            "Do you want to play again? (yes/no): no\n"
          ]
        }
      ],
      "source": [
        "import random\n",
        "\n",
        "def get_user_choice():\n",
        "    user_choice = input(\"Rock, Paper, or Scissors? \").strip().lower()\n",
        "    while user_choice not in [\"rock\", \"paper\", \"scissors\"]:\n",
        "        print(\"Invalid choice. Please choose Rock, Paper, or Scissors.\")\n",
        "        user_choice = input(\"Rock, Paper, or Scissors? \").strip().lower()\n",
        "    return user_choice\n",
        "\n",
        "def get_ai_choice():\n",
        "    return random.choice([\"rock\", \"paper\", \"scissors\"])\n",
        "\n",
        "def determine_winner(user_choice, ai_choice):\n",
        "    if user_choice == ai_choice:\n",
        "        return \"It's a tie!\"\n",
        "    if (\n",
        "        (user_choice == \"rock\" and ai_choice == \"scissors\")\n",
        "        or (user_choice == \"paper\" and ai_choice == \"rock\")\n",
        "        or (user_choice == \"scissors\" and ai_choice == \"paper\")\n",
        "    ):\n",
        "        return \"You win!\"\n",
        "    return \"AI wins!\"\n",
        "\n",
        "while True:\n",
        "    user_choice = get_user_choice()\n",
        "    ai_choice = get_ai_choice()\n",
        "\n",
        "    print(f\"You chose {user_choice}, AI chose {ai_choice}\")\n",
        "    result = determine_winner(user_choice, ai_choice)\n",
        "    print(result)\n",
        "\n",
        "    play_again = input(\"Do you want to play again? (yes/no): \").strip().lower()\n",
        "    if play_again != \"yes\":\n",
        "        break\n"
      ]
    }
  ]
}